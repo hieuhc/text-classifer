{
 "cells": [
  {
   "cell_type": "code",
   "execution_count": 1,
   "metadata": {
    "collapsed": false
   },
   "outputs": [
    {
     "name": "stdout",
     "output_type": "stream",
     "text": [
      "/Users/hieuhuynh/Projects/text-cls\n"
     ]
    }
   ],
   "source": [
    "import os\n",
    "print(os.getcwd())"
   ]
  },
  {
   "cell_type": "code",
   "execution_count": 2,
   "metadata": {
    "collapsed": false
   },
   "outputs": [
    {
     "name": "stdout",
     "output_type": "stream",
     "text": [
      "['acq', 'alum', 'austdlr', 'austral', 'barley', 'bfr', 'bop', 'can', 'carcass', 'castor-meal', 'castor-oil', 'castorseed', 'citruspulp', 'cocoa', 'coconut', 'coconut-oil', 'coffee', 'copper', 'copra-cake', 'corn', 'corn-oil', 'cornglutenfeed', 'cotton', 'cotton-meal', 'cotton-oil', 'cottonseed', 'cpi', 'cpu', 'crude', 'cruzado', 'dfl', 'dkr', 'dlr', 'dmk', 'drachma', 'earn', 'escudo', 'f-cattle', 'ffr', 'fishmeal', 'flaxseed', 'fuel', 'gas', 'gnp', 'gold', 'grain', 'groundnut', 'groundnut-meal', 'groundnut-oil', 'heat', 'hk', 'hog', 'housing', 'income', 'instal-debt', 'interest', 'inventories', 'ipi', 'iron-steel', 'jet', 'jobs', 'l-cattle', 'lead', 'lei', 'lin-meal', 'lin-oil', 'linseed', 'lit', 'livestock', 'lumber', 'lupin', 'meal-feed', 'mexpeso', 'money-fx', 'money-supply', 'naphtha', 'nat-gas', 'nickel', 'nkr', 'nzdlr', 'oat', 'oilseed', 'orange', 'palladium', 'palm-meal', 'palm-oil', 'palmkernel', 'peseta', 'pet-chem', 'platinum', 'plywood', 'pork-belly', 'potato', 'propane', 'rand', 'rape-meal', 'rape-oil', 'rapeseed', 'red-bean', 'reserves', 'retail', 'rice', 'ringgit', 'rubber', 'rupiah', 'rye', 'saudriyal', 'sfr', 'ship', 'silk', 'silver', 'singdlr', 'skr', 'sorghum', 'soy-meal', 'soy-oil', 'soybean', 'stg', 'strategic-metal', 'sugar', 'sun-meal', 'sun-oil', 'sunseed', 'tapioca', 'tea', 'tin', 'trade', 'tung', 'tung-oil', 'veg-oil', 'wheat', 'wool', 'wpi', 'yen', 'zinc']\n",
      "135\n"
     ]
    }
   ],
   "source": [
    "# get topic categories\n",
    "with open(os.path.join('data', 'all-topics-strings.lc.txt')) as t_file:\n",
    "    topic_lst = [category.strip().lower() for category in t_file.readlines()]\n",
    "print(topic_lst)\n",
    "print(len(topic_lst))"
   ]
  },
  {
   "cell_type": "code",
   "execution_count": 3,
   "metadata": {
    "collapsed": false
   },
   "outputs": [
    {
     "name": "stdout",
     "output_type": "stream",
     "text": [
      "processing file data/reut2-000.sgm\n",
      "processing file data/reut2-001.sgm\n",
      "processing file data/reut2-002.sgm\n",
      "processing file data/reut2-003.sgm\n",
      "processing file data/reut2-004.sgm\n",
      "processing file data/reut2-005.sgm\n",
      "processing file data/reut2-006.sgm\n",
      "processing file data/reut2-007.sgm\n",
      "processing file data/reut2-008.sgm\n",
      "processing file data/reut2-009.sgm\n",
      "processing file data/reut2-010.sgm\n",
      "processing file data/reut2-011.sgm\n",
      "processing file data/reut2-012.sgm\n",
      "processing file data/reut2-013.sgm\n",
      "processing file data/reut2-014.sgm\n",
      "processing file data/reut2-015.sgm\n",
      "processing file data/reut2-016.sgm\n",
      "processing file data/reut2-017.sgm\n",
      "processing file data/reut2-018.sgm\n",
      "processing file data/reut2-019.sgm\n",
      "processing file data/reut2-020.sgm\n",
      "processing file data/reut2-021.sgm\n",
      "train:  7780\n",
      "test:  3022\n"
     ]
    }
   ],
   "source": [
    "from bs4 import BeautifulSoup\n",
    "import re\n",
    "import xml.sax.saxutils as saxutils\n",
    "import codecs\n",
    "number_of_files = 22\n",
    "_train_text_lst, _train_label_lst, _test_text_lst, _test_label_lst = [], [], [], []\n",
    "\n",
    "\n",
    "def strip_tags(text):\n",
    "    return re.sub('<[^<]+?>', '', text).strip()\n",
    "\n",
    "for idx in range(number_of_files):\n",
    "    file_path = os.path.join('data', 'reut2-0{}.sgm'.format('0{}'.format(idx) if idx < 10 else idx))\n",
    "    print('processing file {}'.format(file_path))\n",
    "    with codecs.open(file_path, 'r', encoding='UTF8', errors='replace') as f:        \n",
    "        content = BeautifulSoup(f.read().lower(), 'html.parser')\n",
    "        for doc in content('reuters'):            \n",
    "            doc_id = doc['newid']\n",
    "            doc_split = doc['lewissplit']            \n",
    "            doc_topics = [strip_tags(str(topic)) for topic in doc.topics.contents]\n",
    "            if not doc_topics:\n",
    "                continue\n",
    "            # to debug\n",
    "            # print(doc_id, doc_split, doc_topics)\n",
    "            # raise\n",
    "            doc_body = saxutils.unescape(strip_tags(str(doc('text')[0].body)).replace('reuter\\n&#3;', ''))            \n",
    "            if doc_split == 'train':\n",
    "                _train_text_lst.append(doc_body); _train_label_lst.append(doc_topics)\n",
    "            elif doc_split == 'test':\n",
    "                _test_text_lst.append(doc_body); _test_label_lst.append(doc_topics)\n",
    "print('train: ', len(_train_text_lst))\n",
    "print('test: ', len(_test_text_lst))"
   ]
  },
  {
   "cell_type": "code",
   "execution_count": 5,
   "metadata": {
    "collapsed": false
   },
   "outputs": [
    {
     "name": "stdout",
     "output_type": "stream",
     "text": [
      "[('cottonseed', 0), ('castor-meal', 0), ('tung', 0), ('lupin', 0), ('f-cattle', 0), ('bfr', 0), ('silk', 0), ('mexpeso', 0), ('flaxseed', 0), ('singdlr', 0), ('sfr', 0), ('tung-oil', 0), ('groundnut-meal', 0), ('hk', 0), ('cotton-meal', 0), ('drachma', 0), ('austral', 0), ('ffr', 0), ('palm-meal', 0), ('escudo', 0), ('dkr', 1), ('rye', 1), ('ringgit', 1), ('castorseed', 1), ('lit', 1), ('citruspulp', 1), ('corn-oil', 1), ('cotton-oil', 1), ('rupiah', 1), ('peseta', 1), ('lin-meal', 1), ('lin-oil', 1), ('groundnut-oil', 1), ('sun-meal', 1), ('red-bean', 1), ('nkr', 1), ('rape-meal', 1), ('castor-oil', 1), ('cruzado', 1), ('skr', 1), ('cornglutenfeed', 2), ('naphtha', 2), ('nzdlr', 2), ('wool', 2), ('rand', 2), ('copra-cake', 2), ('fishmeal', 2), ('palmkernel', 2), ('palladium', 2), ('linseed', 2), ('dfl', 2), ('cpu', 3), ('pork-belly', 3), ('propane', 3), ('potato', 3), ('saudriyal', 3), ('can', 3), ('tapioca', 3), ('jet', 4), ('plywood', 4), ('coconut', 4), ('coconut-oil', 4), ('austdlr', 4), ('rape-oil', 5), ('inventories', 5), ('sun-oil', 5), ('groundnut', 5), ('instal-debt', 5), ('platinum', 5), ('l-cattle', 6), ('oat', 8), ('nickel', 8), ('income', 9), ('tea', 9), ('lumber', 10), ('dmk', 10), ('sunseed', 11), ('lei', 12), ('fuel', 13), ('soy-meal', 13), ('soy-oil', 14), ('heat', 14), ('lead', 15), ('hog', 16), ('strategic-metal', 16), ('housing', 16), ('orange', 16), ('stg', 17), ('tin', 18), ('rapeseed', 18), ('wpi', 19), ('pet-chem', 20), ('silver', 21), ('zinc', 21), ('retail', 23), ('sorghum', 24), ('meal-feed', 30), ('palm-oil', 30), ('alum', 35), ('rice', 35), ('barley', 37), ('rubber', 37), ('gas', 38), ('cotton', 39), ('iron-steel', 40), ('ipi', 41), ('yen', 45), ('jobs', 46), ('copper', 47), ('carcass', 50), ('cocoa', 55), ('reserves', 55), ('cpi', 69), ('bop', 75), ('livestock', 75), ('nat-gas', 75), ('soybean', 78), ('veg-oil', 87), ('gold', 94), ('gnp', 101), ('coffee', 111), ('oilseed', 124), ('sugar', 126), ('dlr', 131), ('money-supply', 140), ('corn', 183), ('ship', 198), ('wheat', 212), ('interest', 347), ('trade', 369), ('crude', 391), ('grain', 434), ('money-fx', 539), ('acq', 1650), ('earn', 2877)]\n"
     ]
    },
    {
     "data": {
      "image/png": "[encoded data removed]",
      "text/plain": [
       "<matplotlib.figure.Figure at 0x11b663fd0>"
      ]
     },
     "metadata": {},
     "output_type": "display_data"
    }
   ],
   "source": [
    "# plot distribution of labels\n",
    "import matplotlib.pyplot as plt\n",
    "import operator\n",
    "train_topic_count = {topic: 0 for topic in topic_lst}\n",
    "for labels in _train_label_lst:   # try with test_label_lst\n",
    "    for t in labels:\n",
    "        train_topic_count[t] += 1\n",
    "sorted_topic_count = sorted(train_topic_count.items(), key=operator.itemgetter(1))\n",
    "print(sorted_topic_count)\n",
    "plt.figure(figsize=(15, 8))\n",
    "plt.bar(range(len(train_topic_count)), list(train_topic_count.values()), align='center')\n",
    "plt.show()"
   ]
  },
  {
   "cell_type": "code",
   "execution_count": 6,
   "metadata": {
    "collapsed": true
   },
   "outputs": [],
   "source": [
    "# remove classes with few occurences\n",
    "topics_selected = [key for key in train_topic_count if train_topic_count[key] > 3]\n",
    "def remove_minor_class(text_lst, _label_lst, topics_selected):\n",
    "    label_lst = _label_lst.copy()\n",
    "    idx_selected = []    \n",
    "    for i, topics_sample in enumerate(label_lst):\n",
    "        intersect = list(set(topics_sample) & set(topics_selected))\n",
    "        if len(intersect) > 0:\n",
    "            idx_selected.append(i)\n",
    "            label_lst[i] = intersect\n",
    "    return idx_selected, label_lst\n",
    "\n",
    "# remove samples with few class occurences in training set\n",
    "train_idx_selected, train_label_lst = remove_minor_class(_train_text_lst, _train_label_lst, topics_selected)\n",
    "train_text_lst = [_train_text_lst[i] for i in train_idx_selected]\n",
    "train_label_lst = [train_label_lst[i] for i in train_idx_selected]\n",
    "\n",
    "# remove samples with few class occurences in test set\n",
    "test_idx_selected, test_label_lst = remove_minor_class(_test_text_lst, _test_label_lst, topics_selected)\n",
    "test_text_lst = [_test_text_lst[i] for i in test_idx_selected]\n",
    "test_label_lst = [test_label_lst[i] for i in test_idx_selected]"
   ]
  },
  {
   "cell_type": "code",
   "execution_count": 8,
   "metadata": {
    "collapsed": false
   },
   "outputs": [
    {
     "name": "stdout",
     "output_type": "stream",
     "text": [
      "(7773, 77)\n",
      "(3016, 77)\n"
     ]
    }
   ],
   "source": [
    "# label transformer\n",
    "from sklearn import preprocessing\n",
    "label_binarizer = preprocessing.MultiLabelBinarizer(topics_selected)\n",
    "label_binarizer.fit(train_label_lst)\n",
    "# transform training label\n",
    "y_train = label_binarizer.transform(train_label_lst)\n",
    "print(y_train.shape)\n",
    "# transform testing label\n",
    "y_test = label_binarizer.transform(test_label_lst)\n",
    "print(y_test.shape)"
   ]
  },
  {
   "cell_type": "code",
   "execution_count": 9,
   "metadata": {
    "collapsed": false
   },
   "outputs": [
    {
     "data": {
      "text/plain": [
       "(7773, 23545)"
      ]
     },
     "execution_count": 9,
     "metadata": {},
     "output_type": "execute_result"
    }
   ],
   "source": [
    "from sklearn.feature_extraction.text import TfidfVectorizer\n",
    "vect = TfidfVectorizer()\n",
    "x_train = vect.fit_transform(train_text_lst)\n",
    "x_train.shape"
   ]
  },
  {
   "cell_type": "code",
   "execution_count": 25,
   "metadata": {
    "collapsed": true
   },
   "outputs": [],
   "source": [
    "# use lemmatizer\n",
    "from nltk.stem import WordNetLemmatizer\n",
    "from sklearn.feature_extraction.text import TfidfVectorizer\n",
    "\n",
    "class LemmaTfidfVectorizer(TfidfVectorizer):\n",
    "    def build_analyzer(self):\n",
    "        lemmatizer = WordNetLemmatizer()\n",
    "        analyzer = super(TfidfVectorizer,self).build_analyzer()\n",
    "        return lambda doc: (lemmatizer.lemmatize(w) for w in analyzer(doc))"
   ]
  },
  {
   "cell_type": "code",
   "execution_count": 26,
   "metadata": {
    "collapsed": true
   },
   "outputs": [],
   "source": [
    "# model building + grid search + evaluation\n",
    "from sklearn.pipeline import Pipeline\n",
    "from sklearn.feature_extraction.text import TfidfVectorizer\n",
    "from sklearn.multiclass import OneVsRestClassifier\n",
    "from sklearn import linear_model, svm, naive_bayes, model_selection, metrics\n",
    "class LRModel(object):\n",
    "    pipeline = Pipeline([\n",
    "        ('vectorizer', TfidfVectorizer()),\n",
    "        ('cls', OneVsRestClassifier(linear_model.LogisticRegression()))\n",
    "    ])\n",
    "    parameters = {\n",
    "        'vectorizer__max_df': (0.5, 0.75),\n",
    "        'vectorizer__ngram_range': [(1, 1), (1, 2), (1, 3)],\n",
    "        \"cls__estimator__C\": [0.01, 0.1, 1],\n",
    "    }\n",
    "    \n",
    "class NBModel(object):\n",
    "    pipeline = Pipeline([\n",
    "        ('vectorizer', LemmaTfidfVectorizer(stop_words='english')),\n",
    "        ('cls', OneVsRestClassifier(naive_bayes.MultinomialNB(\n",
    "            fit_prior=True, class_prior=None))),\n",
    "    ])\n",
    "    parameters = {\n",
    "        'vectorizer__max_df': (0.5, 0.75),\n",
    "        'vectorizer__ngram_range': [(1, 1), (1, 2), (1, 3)],\n",
    "        'cls__estimator__alpha': (1e-2, 1e-3)\n",
    "    }\n",
    "    \n",
    "class SVCModel(object):\n",
    "    pipeline = Pipeline([\n",
    "        ('vectorizer', TfidfVectorizer()),\n",
    "        ('cls', OneVsRestClassifier(svm.LinearSVC())),\n",
    "    ])\n",
    "    parameters = {\n",
    "        'vectorizer__max_df': (0.5, 0.75),\n",
    "        'vectorizer__ngram_range': [(1, 1), (1, 2), (1, 3)],\n",
    "        'cls__estimator__C': [0.01, 0.1, 1]        \n",
    "    }"
   ]
  },
  {
   "cell_type": "code",
   "execution_count": 22,
   "metadata": {
    "collapsed": true
   },
   "outputs": [],
   "source": [
    "from xgboost.sklearn import XGBClassifier\n",
    "class XGBModel(object):\n",
    "    pipeline = Pipeline([\n",
    "        ('vectorizer', TfidfVectorizer(stop_words='english', max_features=10000)),\n",
    "        ('cls', OneVsRestClassifier(XGBClassifier())),\n",
    "    ])   \n",
    "    parameters = {\n",
    "        'vectorizer__max_df': (0.5, 0.75),\n",
    "        'vectorizer__ngram_range': [(1, 1), (1, 2), (1, 3)],        \n",
    "        'cls__estimator__max_depth': [3, 11],\n",
    "        'cls__estimator__subsample': [0.25, 0.5, 0.75],\n",
    "        'cls__estimator__colsample_bytree': [0.25, 0.5, 0.75]\n",
    "    }"
   ]
  },
  {
   "cell_type": "code",
   "execution_count": 27,
   "metadata": {
    "collapsed": false
   },
   "outputs": [
    {
     "name": "stdout",
     "output_type": "stream",
     "text": [
      "Fitting 3 folds for each of 12 candidates, totalling 36 fits\n",
      "[CV] cls__estimator__alpha=0.01, vectorizer__ngram_range=(1, 1), vectorizer__max_df=0.5 \n",
      "[CV] cls__estimator__alpha=0.01, vectorizer__ngram_range=(1, 1), vectorizer__max_df=0.5 \n",
      "[CV] cls__estimator__alpha=0.01, vectorizer__ngram_range=(1, 1), vectorizer__max_df=0.5 \n",
      "[CV] cls__estimator__alpha=0.01, vectorizer__ngram_range=(1, 2), vectorizer__max_df=0.5 \n"
     ]
    },
    {
     "name": "stderr",
     "output_type": "stream",
     "text": [
      "/Users/hieuhuynh/Apps/anaconda3/envs/text-cls-py3/lib/python3.5/site-packages/sklearn/multiclass.py:76: UserWarning: Label not 17 is present in all training examples.\n",
      "  str(classes[c]))\n"
     ]
    },
    {
     "name": "stdout",
     "output_type": "stream",
     "text": [
      "[CV]  cls__estimator__alpha=0.01, vectorizer__ngram_range=(1, 1), vectorizer__max_df=0.5, score=0.7538071065989848, total=   9.5s\n",
      "[CV] cls__estimator__alpha=0.01, vectorizer__ngram_range=(1, 2), vectorizer__max_df=0.5 \n",
      "[CV]  cls__estimator__alpha=0.01, vectorizer__ngram_range=(1, 1), vectorizer__max_df=0.5, score=0.7387777176852351, total=   9.5s\n",
      "[CV] cls__estimator__alpha=0.01, vectorizer__ngram_range=(1, 2), vectorizer__max_df=0.5 \n",
      "[CV]  cls__estimator__alpha=0.01, vectorizer__ngram_range=(1, 1), vectorizer__max_df=0.5, score=0.698163665537529, total=   9.6s\n",
      "[CV] cls__estimator__alpha=0.01, vectorizer__ngram_range=(1, 3), vectorizer__max_df=0.5 \n"
     ]
    },
    {
     "name": "stderr",
     "output_type": "stream",
     "text": [
      "/Users/hieuhuynh/Apps/anaconda3/envs/text-cls-py3/lib/python3.5/site-packages/sklearn/multiclass.py:76: UserWarning: Label not 17 is present in all training examples.\n",
      "  str(classes[c]))\n"
     ]
    },
    {
     "name": "stdout",
     "output_type": "stream",
     "text": [
      "[CV]  cls__estimator__alpha=0.01, vectorizer__ngram_range=(1, 2), vectorizer__max_df=0.5, score=0.75428777757718, total=  18.3s\n",
      "[CV] cls__estimator__alpha=0.01, vectorizer__ngram_range=(1, 3), vectorizer__max_df=0.5 \n",
      "[CV]  cls__estimator__alpha=0.01, vectorizer__ngram_range=(1, 2), vectorizer__max_df=0.5, score=0.7696577243293247, total=  16.0s\n",
      "[CV] cls__estimator__alpha=0.01, vectorizer__ngram_range=(1, 3), vectorizer__max_df=0.5 \n"
     ]
    },
    {
     "name": "stderr",
     "output_type": "stream",
     "text": [
      "[Parallel(n_jobs=4)]: Done   5 tasks      | elapsed:   40.1s\n"
     ]
    },
    {
     "name": "stdout",
     "output_type": "stream",
     "text": [
      "[CV]  cls__estimator__alpha=0.01, vectorizer__ngram_range=(1, 2), vectorizer__max_df=0.5, score=0.7314881380301941, total=  16.0s\n",
      "[CV] cls__estimator__alpha=0.01, vectorizer__ngram_range=(1, 1), vectorizer__max_df=0.75 \n"
     ]
    },
    {
     "name": "stderr",
     "output_type": "stream",
     "text": [
      "/Users/hieuhuynh/Apps/anaconda3/envs/text-cls-py3/lib/python3.5/site-packages/sklearn/multiclass.py:76: UserWarning: Label not 17 is present in all training examples.\n",
      "  str(classes[c]))\n"
     ]
    },
    {
     "name": "stdout",
     "output_type": "stream",
     "text": [
      "[CV]  cls__estimator__alpha=0.01, vectorizer__ngram_range=(1, 1), vectorizer__max_df=0.75, score=0.7387224828581739, total=   8.5s\n",
      "[CV] cls__estimator__alpha=0.01, vectorizer__ngram_range=(1, 1), vectorizer__max_df=0.75 \n",
      "[CV]  cls__estimator__alpha=0.01, vectorizer__ngram_range=(1, 3), vectorizer__max_df=0.5, score=0.7493133125801135, total=  27.3s\n",
      "[CV] cls__estimator__alpha=0.01, vectorizer__ngram_range=(1, 1), vectorizer__max_df=0.75 \n"
     ]
    },
    {
     "name": "stderr",
     "output_type": "stream",
     "text": [
      "/Users/hieuhuynh/Apps/anaconda3/envs/text-cls-py3/lib/python3.5/site-packages/sklearn/multiclass.py:76: UserWarning: Label not 17 is present in all training examples.\n",
      "  str(classes[c]))\n"
     ]
    },
    {
     "name": "stdout",
     "output_type": "stream",
     "text": [
      "[CV]  cls__estimator__alpha=0.01, vectorizer__ngram_range=(1, 1), vectorizer__max_df=0.75, score=0.7532656023222062, total=   8.7s\n",
      "[CV] cls__estimator__alpha=0.01, vectorizer__ngram_range=(1, 2), vectorizer__max_df=0.75 \n",
      "[CV]  cls__estimator__alpha=0.01, vectorizer__ngram_range=(1, 1), vectorizer__max_df=0.75, score=0.6985543458861323, total=   9.2s\n",
      "[CV] cls__estimator__alpha=0.01, vectorizer__ngram_range=(1, 2), vectorizer__max_df=0.75 \n"
     ]
    },
    {
     "name": "stderr",
     "output_type": "stream",
     "text": [
      "[Parallel(n_jobs=4)]: Done  10 tasks      | elapsed:  1.2min\n"
     ]
    },
    {
     "name": "stdout",
     "output_type": "stream",
     "text": [
      "[CV]  cls__estimator__alpha=0.01, vectorizer__ngram_range=(1, 3), vectorizer__max_df=0.5, score=0.7615298087739032, total=  28.7s\n",
      "[CV] cls__estimator__alpha=0.01, vectorizer__ngram_range=(1, 2), vectorizer__max_df=0.75 \n"
     ]
    },
    {
     "name": "stderr",
     "output_type": "stream",
     "text": [
      "/Users/hieuhuynh/Apps/anaconda3/envs/text-cls-py3/lib/python3.5/site-packages/sklearn/multiclass.py:76: UserWarning: Label not 17 is present in all training examples.\n",
      "  str(classes[c]))\n"
     ]
    },
    {
     "name": "stdout",
     "output_type": "stream",
     "text": [
      "[CV]  cls__estimator__alpha=0.01, vectorizer__ngram_range=(1, 3), vectorizer__max_df=0.5, score=0.7248444932308817, total=  31.2s\n",
      "[CV] cls__estimator__alpha=0.01, vectorizer__ngram_range=(1, 3), vectorizer__max_df=0.75 \n",
      "[CV]  cls__estimator__alpha=0.01, vectorizer__ngram_range=(1, 2), vectorizer__max_df=0.75, score=0.7533453887884269, total=  23.6s\n",
      "[CV] cls__estimator__alpha=0.01, vectorizer__ngram_range=(1, 3), vectorizer__max_df=0.75 \n",
      "[CV]  cls__estimator__alpha=0.01, vectorizer__ngram_range=(1, 2), vectorizer__max_df=0.75, score=0.768888888888889, total=  25.1s\n",
      "[CV] cls__estimator__alpha=0.01, vectorizer__ngram_range=(1, 3), vectorizer__max_df=0.75 \n",
      "[CV]  cls__estimator__alpha=0.01, vectorizer__ngram_range=(1, 2), vectorizer__max_df=0.75, score=0.7308730873087308, total=  25.3s\n",
      "[CV] cls__estimator__alpha=0.001, vectorizer__ngram_range=(1, 1), vectorizer__max_df=0.5 \n"
     ]
    },
    {
     "name": "stderr",
     "output_type": "stream",
     "text": [
      "/Users/hieuhuynh/Apps/anaconda3/envs/text-cls-py3/lib/python3.5/site-packages/sklearn/multiclass.py:76: UserWarning: Label not 17 is present in all training examples.\n",
      "  str(classes[c]))\n"
     ]
    },
    {
     "name": "stdout",
     "output_type": "stream",
     "text": [
      "[CV]  cls__estimator__alpha=0.001, vectorizer__ngram_range=(1, 1), vectorizer__max_df=0.5, score=0.7139944392956441, total=  12.1s\n",
      "[CV] cls__estimator__alpha=0.001, vectorizer__ngram_range=(1, 1), vectorizer__max_df=0.5 \n"
     ]
    },
    {
     "name": "stderr",
     "output_type": "stream",
     "text": [
      "/Users/hieuhuynh/Apps/anaconda3/envs/text-cls-py3/lib/python3.5/site-packages/sklearn/multiclass.py:76: UserWarning: Label not 17 is present in all training examples.\n",
      "  str(classes[c]))\n"
     ]
    },
    {
     "name": "stdout",
     "output_type": "stream",
     "text": [
      "[CV]  cls__estimator__alpha=0.001, vectorizer__ngram_range=(1, 1), vectorizer__max_df=0.5, score=0.7304380381879445, total=  15.8s\n",
      "[CV] cls__estimator__alpha=0.001, vectorizer__ngram_range=(1, 1), vectorizer__max_df=0.5 \n"
     ]
    },
    {
     "name": "stderr",
     "output_type": "stream",
     "text": [
      "[Parallel(n_jobs=4)]: Done  17 tasks      | elapsed:  2.7min\n"
     ]
    },
    {
     "name": "stdout",
     "output_type": "stream",
     "text": [
      "[CV]  cls__estimator__alpha=0.01, vectorizer__ngram_range=(1, 3), vectorizer__max_df=0.75, score=0.7491749174917491, total=  41.7s\n",
      "[CV] cls__estimator__alpha=0.001, vectorizer__ngram_range=(1, 2), vectorizer__max_df=0.5 \n",
      "[CV]  cls__estimator__alpha=0.001, vectorizer__ngram_range=(1, 1), vectorizer__max_df=0.5, score=0.672962962962963, total=  14.2s\n",
      "[CV] cls__estimator__alpha=0.001, vectorizer__ngram_range=(1, 2), vectorizer__max_df=0.5 \n",
      "[CV]  cls__estimator__alpha=0.01, vectorizer__ngram_range=(1, 3), vectorizer__max_df=0.75, score=0.7616366366366366, total=  49.9s\n",
      "[CV] cls__estimator__alpha=0.001, vectorizer__ngram_range=(1, 2), vectorizer__max_df=0.5 \n",
      "[CV]  cls__estimator__alpha=0.01, vectorizer__ngram_range=(1, 3), vectorizer__max_df=0.75, score=0.7252747252747253, total=  48.6s\n",
      "[CV] cls__estimator__alpha=0.001, vectorizer__ngram_range=(1, 3), vectorizer__max_df=0.5 \n"
     ]
    },
    {
     "name": "stderr",
     "output_type": "stream",
     "text": [
      "/Users/hieuhuynh/Apps/anaconda3/envs/text-cls-py3/lib/python3.5/site-packages/sklearn/multiclass.py:76: UserWarning: Label not 17 is present in all training examples.\n",
      "  str(classes[c]))\n"
     ]
    },
    {
     "name": "stdout",
     "output_type": "stream",
     "text": [
      "[CV]  cls__estimator__alpha=0.001, vectorizer__ngram_range=(1, 2), vectorizer__max_df=0.5, score=0.7692307692307693, total=  32.4s\n",
      "[CV] cls__estimator__alpha=0.001, vectorizer__ngram_range=(1, 3), vectorizer__max_df=0.5 \n",
      "[CV]  cls__estimator__alpha=0.001, vectorizer__ngram_range=(1, 2), vectorizer__max_df=0.5, score=0.7738031678234562, total=  33.4s\n",
      "[CV] cls__estimator__alpha=0.001, vectorizer__ngram_range=(1, 3), vectorizer__max_df=0.5 \n",
      "[CV]  cls__estimator__alpha=0.001, vectorizer__ngram_range=(1, 2), vectorizer__max_df=0.5, score=0.7438499913985893, total=  33.6s\n"
     ]
    },
    {
     "name": "stderr",
     "output_type": "stream",
     "text": [
      "[Parallel(n_jobs=4)]: Done  24 tasks      | elapsed:  4.0min\n"
     ]
    },
    {
     "name": "stdout",
     "output_type": "stream",
     "text": [
      "[CV] cls__estimator__alpha=0.001, vectorizer__ngram_range=(1, 1), vectorizer__max_df=0.75 \n"
     ]
    },
    {
     "name": "stderr",
     "output_type": "stream",
     "text": [
      "/Users/hieuhuynh/Apps/anaconda3/envs/text-cls-py3/lib/python3.5/site-packages/sklearn/multiclass.py:76: UserWarning: Label not 17 is present in all training examples.\n",
      "  str(classes[c]))\n"
     ]
    },
    {
     "name": "stdout",
     "output_type": "stream",
     "text": [
      "[CV]  cls__estimator__alpha=0.001, vectorizer__ngram_range=(1, 1), vectorizer__max_df=0.75, score=0.713888373817912, total=  15.8s\n",
      "[CV] cls__estimator__alpha=0.001, vectorizer__ngram_range=(1, 1), vectorizer__max_df=0.75 \n"
     ]
    },
    {
     "name": "stderr",
     "output_type": "stream",
     "text": [
      "/Users/hieuhuynh/Apps/anaconda3/envs/text-cls-py3/lib/python3.5/site-packages/sklearn/multiclass.py:76: UserWarning: Label not 17 is present in all training examples.\n",
      "  str(classes[c]))\n"
     ]
    },
    {
     "name": "stdout",
     "output_type": "stream",
     "text": [
      "[CV]  cls__estimator__alpha=0.001, vectorizer__ngram_range=(1, 3), vectorizer__max_df=0.5, score=0.7702033145395523, total=  56.5s\n",
      "[CV] cls__estimator__alpha=0.001, vectorizer__ngram_range=(1, 1), vectorizer__max_df=0.75 \n",
      "[CV]  cls__estimator__alpha=0.001, vectorizer__ngram_range=(1, 1), vectorizer__max_df=0.75, score=0.7304380381879445, total=  17.8s\n",
      "[CV] cls__estimator__alpha=0.001, vectorizer__ngram_range=(1, 2), vectorizer__max_df=0.75 \n",
      "[CV]  cls__estimator__alpha=0.001, vectorizer__ngram_range=(1, 1), vectorizer__max_df=0.75, score=0.6730840429470566, total=  17.1s\n",
      "[CV] cls__estimator__alpha=0.001, vectorizer__ngram_range=(1, 2), vectorizer__max_df=0.75 \n",
      "[CV]  cls__estimator__alpha=0.001, vectorizer__ngram_range=(1, 3), vectorizer__max_df=0.5, score=0.7772895060643347, total=  57.7s\n",
      "[CV] cls__estimator__alpha=0.001, vectorizer__ngram_range=(1, 2), vectorizer__max_df=0.75 \n",
      "[CV]  cls__estimator__alpha=0.001, vectorizer__ngram_range=(1, 3), vectorizer__max_df=0.5, score=0.7487318227933717, total=  59.0s\n",
      "[CV] cls__estimator__alpha=0.001, vectorizer__ngram_range=(1, 3), vectorizer__max_df=0.75 \n"
     ]
    },
    {
     "name": "stderr",
     "output_type": "stream",
     "text": [
      "/Users/hieuhuynh/Apps/anaconda3/envs/text-cls-py3/lib/python3.5/site-packages/sklearn/multiclass.py:76: UserWarning: Label not 17 is present in all training examples.\n",
      "  str(classes[c]))\n"
     ]
    },
    {
     "name": "stdout",
     "output_type": "stream",
     "text": [
      "[CV]  cls__estimator__alpha=0.001, vectorizer__ngram_range=(1, 2), vectorizer__max_df=0.75, score=0.7691505992704533, total=  41.0s\n",
      "[CV] cls__estimator__alpha=0.001, vectorizer__ngram_range=(1, 3), vectorizer__max_df=0.75 \n",
      "[CV]  cls__estimator__alpha=0.001, vectorizer__ngram_range=(1, 2), vectorizer__max_df=0.75, score=0.7736654804270463, total=  45.8s\n",
      "[CV] cls__estimator__alpha=0.001, vectorizer__ngram_range=(1, 3), vectorizer__max_df=0.75 \n",
      "[CV]  cls__estimator__alpha=0.001, vectorizer__ngram_range=(1, 2), vectorizer__max_df=0.75, score=0.7438499913985893, total=  47.0s\n"
     ]
    },
    {
     "name": "stderr",
     "output_type": "stream",
     "text": [
      "[Parallel(n_jobs=4)]: Done  33 out of  36 | elapsed:  6.3min remaining:   34.6s\n",
      "/Users/hieuhuynh/Apps/anaconda3/envs/text-cls-py3/lib/python3.5/site-packages/sklearn/multiclass.py:76: UserWarning: Label not 17 is present in all training examples.\n",
      "  str(classes[c]))\n"
     ]
    },
    {
     "name": "stdout",
     "output_type": "stream",
     "text": [
      "[CV]  cls__estimator__alpha=0.001, vectorizer__ngram_range=(1, 3), vectorizer__max_df=0.75, score=0.7707300393229611, total= 1.1min\n",
      "[CV]  cls__estimator__alpha=0.001, vectorizer__ngram_range=(1, 3), vectorizer__max_df=0.75, score=0.7770745428973277, total= 1.0min\n",
      "[CV]  cls__estimator__alpha=0.001, vectorizer__ngram_range=(1, 3), vectorizer__max_df=0.75, score=0.7479261892669714, total=  58.1s\n"
     ]
    },
    {
     "name": "stderr",
     "output_type": "stream",
     "text": [
      "[Parallel(n_jobs=4)]: Done  36 out of  36 | elapsed:  7.6min finished\n"
     ]
    },
    {
     "name": "stdout",
     "output_type": "stream",
     "text": [
      "Best parameters set:\n",
      "[('vectorizer', LemmaTfidfVectorizer(analyzer='word', binary=False, decode_error='strict',\n",
      "           dtype=<class 'numpy.int64'>, encoding='utf-8', input='content',\n",
      "           lowercase=True, max_df=0.5, max_features=None, min_df=1,\n",
      "           ngram_range=(1, 3), norm='l2', preprocessor=None,\n",
      "           smooth_idf=True, stop_words='english', strip_accents=None,\n",
      "           sublinear_tf=False, token_pattern='(?u)\\\\b\\\\w\\\\w+\\\\b',\n",
      "           tokenizer=None, use_idf=True, vocabulary=None)), ('cls', OneVsRestClassifier(estimator=MultinomialNB(alpha=0.001, class_prior=None, fit_prior=True),\n",
      "          n_jobs=1))]\n",
      "Perform best classifier on test data:\n"
     ]
    }
   ],
   "source": [
    "mid = 'NBModelLemmatizer'\n",
    "pipeline, parameters = NBModel.pipeline, NBModel.parameters\n",
    "grid_search = model_selection.GridSearchCV(pipeline, parameters, scoring='f1_micro', cv=None, n_jobs=4, verbose=10)\n",
    "grid_search.fit(train_text_lst, y_train)\n",
    "\n",
    "print(\"Best parameters set:\")\n",
    "print(grid_search.best_estimator_.steps)\n",
    "\n",
    "print(\"Perform best classifier on test data:\")\n",
    "best_clf = grid_search.best_estimator_\n",
    "predictions = best_clf.predict(test_text_lst)"
   ]
  },
  {
   "cell_type": "code",
   "execution_count": 28,
   "metadata": {
    "collapsed": false
   },
   "outputs": [
    {
     "data": {
      "text/plain": [
       "<bound method Pipeline.get_params of Pipeline(memory=None,\n",
       "     steps=[('vectorizer', LemmaTfidfVectorizer(analyzer='word', binary=False, decode_error='strict',\n",
       "           dtype=<class 'numpy.int64'>, encoding='utf-8', input='content',\n",
       "           lowercase=True, max_df=0.5, max_features=None, min_df=1,\n",
       "           ngram_range=(1, 3), norm='l2', preprocessor=None,...sifier(estimator=MultinomialNB(alpha=0.001, class_prior=None, fit_prior=True),\n",
       "          n_jobs=1))])>"
      ]
     },
     "execution_count": 28,
     "metadata": {},
     "output_type": "execute_result"
    }
   ],
   "source": [
    "best_clf.get_params"
   ]
  },
  {
   "cell_type": "code",
   "execution_count": 29,
   "metadata": {
    "collapsed": false
   },
   "outputs": [
    {
     "name": "stdout",
     "output_type": "stream",
     "text": [
      "                 precision    recall  f1-score   support\n",
      "\n",
      "          sugar       1.00      0.72      0.84        36\n",
      "            jet       0.00      0.00      0.00         1\n",
      "            gas       1.00      0.35      0.52        17\n",
      "        soybean       0.56      0.30      0.39        33\n",
      "           alum       1.00      0.13      0.23        23\n",
      "            hog       1.00      0.33      0.50         6\n",
      "          crude       0.84      0.73      0.78       189\n",
      "            oat       1.00      0.17      0.29         6\n",
      "          cocoa       0.90      0.50      0.64        18\n",
      "       rape-oil       0.00      0.00      0.00         3\n",
      "            stg       0.00      0.00      0.00         0\n",
      "         barley       0.60      0.43      0.50        14\n",
      "           lead       1.00      0.07      0.13        14\n",
      "        veg-oil       0.78      0.49      0.60        37\n",
      "         income       1.00      0.29      0.44         7\n",
      "         retail       1.00      0.50      0.67         2\n",
      "         rubber       0.88      0.58      0.70        12\n",
      "    inventories       0.00      0.00      0.00         0\n",
      "         lumber       0.00      0.00      0.00         6\n",
      "        soy-oil       0.50      0.09      0.15        11\n",
      "           fuel       0.60      0.30      0.40        10\n",
      "        plywood       0.00      0.00      0.00         0\n",
      "         copper       0.55      0.33      0.41        18\n",
      "         coffee       0.84      0.75      0.79        28\n",
      "       pet-chem       1.00      0.08      0.15        12\n",
      "         silver       1.00      0.12      0.22         8\n",
      "           zinc       1.00      0.08      0.14        13\n",
      "            tin       1.00      0.42      0.59        12\n",
      "            gnp       0.80      0.80      0.80        35\n",
      "strategic-metal       1.00      0.09      0.17        11\n",
      "       interest       0.72      0.55      0.62       133\n",
      "          grain       0.78      0.72      0.75       149\n",
      "            acq       0.97      0.84      0.90       719\n",
      "        sun-oil       0.00      0.00      0.00         2\n",
      "           corn       0.50      0.50      0.50        56\n",
      "      meal-feed       0.83      0.26      0.40        19\n",
      "       rapeseed       1.00      0.44      0.62         9\n",
      "      groundnut       0.00      0.00      0.00         4\n",
      "        housing       1.00      0.25      0.40         4\n",
      "        coconut       0.00      0.00      0.00         2\n",
      "        oilseed       0.47      0.40      0.44        47\n",
      "         nickel       0.00      0.00      0.00         1\n",
      "    coconut-oil       1.00      0.33      0.50         3\n",
      "         orange       1.00      0.36      0.53        11\n",
      "       reserves       0.90      0.50      0.64        18\n",
      "            dlr       0.39      0.52      0.45        44\n",
      "         cotton       0.71      0.25      0.37        20\n",
      "        austdlr       0.00      0.00      0.00         0\n",
      "            cpi       0.57      0.46      0.51        28\n",
      "            lei       1.00      0.67      0.80         3\n",
      "       l-cattle       0.00      0.00      0.00         2\n",
      "            bop       0.65      0.50      0.57        30\n",
      "           heat       0.75      0.60      0.67         5\n",
      "   money-supply       0.63      0.50      0.56        34\n",
      "      livestock       0.60      0.38      0.46        24\n",
      "            tea       0.00      0.00      0.00         4\n",
      "            wpi       0.86      0.60      0.71        10\n",
      "    instal-debt       0.00      0.00      0.00         1\n",
      "           earn       0.98      0.94      0.96      1088\n",
      "       soy-meal       0.33      0.08      0.12        13\n",
      "       money-fx       0.70      0.72      0.71       180\n",
      "       palm-oil       1.00      0.60      0.75        10\n",
      "        carcass       0.71      0.28      0.40        18\n",
      "           ship       0.85      0.64      0.73        89\n",
      "     iron-steel       0.83      0.36      0.50        14\n",
      "          wheat       0.61      0.70      0.65        71\n",
      "        sunseed       1.00      0.20      0.33         5\n",
      "           jobs       1.00      0.43      0.60        21\n",
      "            dmk       0.00      0.00      0.00         4\n",
      "           gold       0.92      0.40      0.56        30\n",
      "            yen       0.25      0.07      0.11        14\n",
      "            ipi       0.83      0.42      0.56        12\n",
      "        sorghum       0.67      0.20      0.31        10\n",
      "        nat-gas       0.61      0.37      0.46        30\n",
      "           rice       0.50      0.08      0.14        24\n",
      "          trade       0.56      0.66      0.60       117\n",
      "       platinum       0.00      0.00      0.00         7\n",
      "\n",
      "    avg / total       0.84      0.71      0.75      3721\n",
      "\n"
     ]
    },
    {
     "name": "stderr",
     "output_type": "stream",
     "text": [
      "/Users/hieuhuynh/Apps/anaconda3/envs/text-cls-py3/lib/python3.5/site-packages/sklearn/metrics/classification.py:1135: UndefinedMetricWarning: Precision and F-score are ill-defined and being set to 0.0 in labels with no predicted samples.\n",
      "  'precision', 'predicted', average, warn_for)\n",
      "/Users/hieuhuynh/Apps/anaconda3/envs/text-cls-py3/lib/python3.5/site-packages/sklearn/metrics/classification.py:1137: UndefinedMetricWarning: Recall and F-score are ill-defined and being set to 0.0 in labels with no true samples.\n",
      "  'recall', 'true', average, warn_for)\n"
     ]
    }
   ],
   "source": [
    "report = metrics.classification_report(y_test, predictions, target_names=topics_selected)\n",
    "print(report)\n",
    "with(open(os.path.join(os.getcwd(), '{}.txt'.format(mid)), 'w')) as f:\n",
    "    f.write('Best params: ' + str(best_clf.get_params))\n",
    "    f.write('\\n--------------\\n')\n",
    "    f.write(report)"
   ]
  },
  {
   "cell_type": "code",
   "execution_count": null,
   "metadata": {
    "collapsed": true
   },
   "outputs": [],
   "source": []
  },
  {
   "cell_type": "code",
   "execution_count": null,
   "metadata": {
    "collapsed": true
   },
   "outputs": [],
   "source": [
    "print(5)"
   ]
  },
  {
   "cell_type": "code",
   "execution_count": null,
   "metadata": {
    "collapsed": true
   },
   "outputs": [],
   "source": []
  }
 ],
 "metadata": {
  "anaconda-cloud": {},
  "kernelspec": {
   "display_name": "Python 3",
   "language": "python",
   "name": "python3"
  },
  "language_info": {
   "codemirror_mode": {
    "name": "ipython",
    "version": 3
   },
   "file_extension": ".py",
   "mimetype": "text/x-python",
   "name": "python",
   "nbconvert_exporter": "python",
   "pygments_lexer": "ipython3",
   "version": "3.5.2"
  }
 },
 "nbformat": 4,
 "nbformat_minor": 1
}
